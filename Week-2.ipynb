{
 "cells": [
  {
   "cell_type": "markdown",
   "metadata": {},
   "source": [
    "# Python Training: Week 2\n",
    "## Contents\n",
    "- Algorithm Design\n",
    "    - Algorithm design steps\n",
    "    - Basic computer operations\n",
    "    - IPO charts\n",
    "    - Flow charts\n",
    "    - Trace tables\n",
    "- Python Basics Cont.\n",
    "    - Introduction to data structures\n",
    "        - Lists\n",
    "- Exercises"
   ]
  },
  {
   "cell_type": "markdown",
   "metadata": {},
   "source": [
    "# Algorithm Design\n",
    "All software that is created - no matter the size and scope - go through a basic development cycle:\n",
    "![title](img/development_cycle.png)\n",
    "\n",
    "When starting out with learning to code, most people will brush over the designing phase and jump straight into writing code - while this will help you get used to the syntax and execution of the language it won't help to develop your skills in building the logical thinking behind how you code. The design phase of the development cycle is arguably the most important - it lays down the foundations for everything you will build in the future. If you're executing a poorly designed program you'll end up spending far longer going back and fixing it than if you'd spent the time to focus on logic and design initially.\n",
    "\n",
    "Something important to note is that there is no size limitation on this development cycle - this can be applied for a single function, a single script or an entire project.  \n",
    "\n",
    "## Algorithm Design Steps\n",
    "At it's core, designing a program comes down to two steps: \n",
    "\n",
    "1) Understand the task that you want to achieve.\n",
    "    - Understand fully and exactly what you're wanting to achieve with your code - what is the output that you're wanting to get from running the code and what do you have available to you to help with it? As a real world example, think of brushing your teeth and what exactly it is you need to do: walk to the bathroom and brush your teeth before bed.  \n",
    "\n",
    "2) Determine the steps that must be taken to perform the task.\n",
    "    - Once you understand your task, you need to break down how to complete that task step by step. The steps should be sequential and logical, following the example of brushing your teeth we can break this down into high level steps:\n",
    "        1) Enter bathroom\n",
    "        2) Pick up toothbrush from holder\n",
    "        3) Pick up toothpaste\n",
    "        4) Remove toothpaste cap\n",
    "        5) Put toothpaste on toothbrush\n",
    "        6) Brush teeth\n",
    "        7) Rinse toothbrush\n",
    "        8) Rinse mouth\n",
    "        10) Place toothpaste cap back on\n",
    "        11) Place toothbrush back in holder\n",
    "        12) Leave bathroom\n",
    "    \n",
    "    - If you were to brush your teeth before putting toothpaste on the toothbrush or attempt to begin brushing before entering the room, you wouldn't get the desired outcome. If you didn't put the toothbrush back in place or the toothpaste cap back on either you would run into issues if you tried to repeat the same steps again in the morning. \n",
    "\n",
    "## Basic computer operations\n",
    "Every algorithm and program is made up of a combination of the following building blocks:\n",
    "- Receive data\n",
    "    - read from a file\n",
    "    - read from an input device\n",
    "- Produce information\n",
    "    - write to a file or database\n",
    "    - output and display on screen\n",
    "- Perform arithmetic\n",
    "    - calculations can be performed on data\n",
    "- Assign value to variables\n",
    "    - give variables initial values\n",
    "    - assign values as a result of processing\n",
    "    - keep information for later use\n",
    "- Compare pieces of information and take action from the outcome\n",
    "    - conditional statements\n",
    "- Repeat a group of actions\n",
    "    - loops"
   ]
  },
  {
   "cell_type": "markdown",
   "metadata": {},
   "source": [
    "\n",
    "    \n",
    "## Analysing problems \n",
    "In order to create a script or a program you need to first understand what the problem you're trying to solve is, what result you're wanting and the steps to get that result. At a high level an algorithm can be divided into three main phases:\n",
    "\n",
    "1. Input - what data you have available to solve the problem\n",
    "2. Process - the steps taken to solve the problem\n",
    "3. Output - what the required results are\n",
    "\n",
    "As part of breaking down a problem and planning how to solve it IPO charts can be used. These are best suited to smaller pieces of code such as individual functions. \n",
    "\n",
    "> Example problem: Enter the distance between two trees in kilometres. Calculate and display the distance in metres and in centimetres.\n",
    "\n",
    "| Input | Process | Output |\n",
    "| - | - | - |\n",
    "| distance | - prompt distance input | metre |\n",
    "| | - enter distance | centimetre |\n",
    "| | - calculate metres | |\n",
    "| | - calculate centimetres | |\n",
    "| | - calculate metres | |\n",
    "| | - display centimetres | |"
   ]
  },
  {
   "cell_type": "markdown",
   "metadata": {},
   "source": [
    "Flowcharts can be used to plan and illustrate the logic behind a program, showing the steps for each process:\n",
    "![flowchart](img/flowchart.png)"
   ]
  },
  {
   "cell_type": "code",
   "execution_count": 8,
   "metadata": {},
   "outputs": [
    {
     "name": "stdout",
     "output_type": "stream",
     "text": [
      "\n"
     ]
    }
   ],
   "source": [
    "#http://flowchart.js.org/\n",
    "'''\n",
    "st=>start: Start\n",
    "e=>end: End\n",
    "in2=>inputoutput: distance = 'Enter distance in km: '\n",
    "op4=>operation: metre = (distance * 1000)\n",
    "op6=>operation: centimetre = (metre * 100)\n",
    "out8=>inputoutput: display '{distance} km is equivalent to {metre} metres or {centimetre} centimetres'\n",
    "\n",
    "st->in2->op4\n",
    "op4->op6\n",
    "op6->out8->e\n",
    "'''\n",
    "print()"
   ]
  },
  {
   "cell_type": "markdown",
   "metadata": {},
   "source": [
    "To test the logic and prevent errors of smaller code snippets, trace tables can be used with test data to ensure that the program will provide the expected results.\n",
    "\n",
    "|Instruction|distance|metre|centimetre|output|\n",
    "|-|-|-|-|-|\n",
    "| Input | | | | Enter distance in km |\n",
    "| Enter | 12 | | | |\n",
    "| Calculate metre | | 12000 | | |\n",
    "| Calculate centimetre | | | 1200000 | |\n",
    "| Display | | | | 12 km is equivalent to 12000 metres or 1200000 centimetres |\n"
   ]
  },
  {
   "cell_type": "markdown",
   "metadata": {},
   "source": [
    "Now that we've tested our logic, we can actually write the code for this problem:"
   ]
  },
  {
   "cell_type": "code",
   "execution_count": null,
   "metadata": {},
   "outputs": [],
   "source": [
    "distance = float(input(\"Enter distance in km: \"))\n",
    "metre = distance * 1000\n",
    "centimetre = metre * 100\n",
    "\n",
    "print(f\"{distance} km is equivalent to {metre} metres or {centimetre} centimetres\")"
   ]
  },
  {
   "cell_type": "code",
   "execution_count": null,
   "metadata": {},
   "outputs": [],
   "source": [
    "def distance_conversion():\n",
    "    distance = float(input(\"Enter distance in km: \"))\n",
    "    metre = distance * 1000\n",
    "    centimetre = metre * 100\n",
    "    return(f\"{distance} km is equivalent to {metre} metres or {centimetre} centimetres\")\n",
    "\n",
    "distance_conversion()"
   ]
  },
  {
   "cell_type": "code",
   "execution_count": null,
   "metadata": {},
   "outputs": [],
   "source": [
    "def distance_conversion(distance):\n",
    "    metre = distance * 1000\n",
    "    centimetre = metre * 100\n",
    "    return(f\"{distance} km is equivalent to {metre} metres or {centimetre} centimetres\")\n",
    "\n",
    "print(distance_conversion(10))\n",
    "print(distance_conversion(12.4))\n",
    "print(distance_conversion(87))"
   ]
  },
  {
   "cell_type": "markdown",
   "metadata": {},
   "source": [
    "## Python Basics cont.\n",
    "### Data Structures\n",
    "Python *collections* are used to store data - with the built-in collections being lists, dictionaries, sets and tuples.\n",
    "\n",
    "#### Lists\n",
    "- An collection of ordered data\n",
    "    - Items can be identified by their location within the list\n",
    "- Can contain duplicate elements\n",
    "- Mutable - values can be changed once assigned\n",
    "- Best used for collections of data that don't need random access and will be modified frequently. "
   ]
  },
  {
   "cell_type": "code",
   "execution_count": 8,
   "metadata": {},
   "outputs": [],
   "source": [
    "#pip install graphviz==0.18\n",
    "from lolviz import *"
   ]
  },
  {
   "cell_type": "code",
   "execution_count": 3,
   "metadata": {},
   "outputs": [
    {
     "name": "stdout",
     "output_type": "stream",
     "text": [
      "[]\n",
      "[1, 2, 2, 3]\n",
      "['One', 2, {'Four': 4}, None]\n",
      "['Hello', 'World']\n"
     ]
    }
   ],
   "source": [
    "# Lists\n",
    "var = 2\n",
    "\n",
    "# Create a list\n",
    "empty_list = []\n",
    "list_of_ints = [1, 2, 2, 3]\n",
    "list_of_objects = [\"One\", var, {\"Four\":4}, None]\n",
    "list_of_strings = [\"Hello\", \"World\"]\n",
    "\n",
    "print(empty_list)\n",
    "print(list_of_ints)\n",
    "print(list_of_objects)\n",
    "print(list_of_strings)"
   ]
  },
  {
   "cell_type": "code",
   "execution_count": 5,
   "metadata": {},
   "outputs": [
    {
     "name": "stdout",
     "output_type": "stream",
     "text": [
      "['Hello', 'Hello', 'World', '!']\n"
     ]
    }
   ],
   "source": [
    "# append to a list\n",
    "empty_list.append(\"Hello\")\n",
    "empty_list.append(\"World\")\n",
    "empty_list.append(\"!\")\n",
    "print(empty_list)"
   ]
  },
  {
   "cell_type": "code",
   "execution_count": 16,
   "metadata": {},
   "outputs": [
    {
     "name": "stdout",
     "output_type": "stream",
     "text": [
      "One\n",
      "None\n",
      "[2, {'Four': 4}]\n"
     ]
    }
   ],
   "source": [
    "# accessing data in a list\n",
    "print(list_of_objects[0]) # access at index 0\n",
    "print(list_of_objects[-1]) # access at the last value\n",
    "print(list_of_objects[1:3]) # access a slice of the list"
   ]
  },
  {
   "cell_type": "code",
   "execution_count": 20,
   "metadata": {},
   "outputs": [
    {
     "name": "stdout",
     "output_type": "stream",
     "text": [
      "Original:  ['One', 2, {'Four': 4}, None]\n",
      "Updated:  ['One', 76, {'Four': 4}, None]\n"
     ]
    }
   ],
   "source": [
    "# update a list\n",
    "# using the above accessing methods, we can overwrite the data in a list by it's index\n",
    "print('Original: ', list_of_objects)\n",
    "\n",
    "# update at position 2 (index 1)\n",
    "list_of_objects[1] = 76\n",
    "\n",
    "print('Updated: ', list_of_objects)"
   ]
  },
  {
   "cell_type": "code",
   "execution_count": 18,
   "metadata": {},
   "outputs": [
    {
     "name": "stdout",
     "output_type": "stream",
     "text": [
      "[1, 2, 3, 'Hello', 'World']\n"
     ]
    }
   ],
   "source": [
    "# concatenate a list\n",
    "new_list = list_of_ints + list_of_strings\n",
    "print(new_list)"
   ]
  },
  {
   "cell_type": "code",
   "execution_count": 6,
   "metadata": {},
   "outputs": [
    {
     "name": "stdout",
     "output_type": "stream",
     "text": [
      "['Hello', 'Hello', '!']\n",
      "[1, 2, 3]\n"
     ]
    }
   ],
   "source": [
    "# remove from list\n",
    "# remove() removes the first matching element from the list\n",
    "\n",
    "empty_list.remove(\"World\")\n",
    "list_of_ints.remove(2)\n",
    "\n",
    "print(empty_list)\n",
    "print(list_of_ints)"
   ]
  },
  {
   "cell_type": "code",
   "execution_count": 12,
   "metadata": {},
   "outputs": [
    {
     "data": {
      "text/plain": [
       "[1, 2, 3]"
      ]
     },
     "execution_count": 12,
     "metadata": {},
     "output_type": "execute_result"
    }
   ],
   "source": [
    "# remove from list based on location\n",
    "# pop() removes an item at the given index and returns the value removed\n",
    "objviz(list_of_ints)\n",
    "\n",
    "removed = list_of_ints.pop(3)\n",
    "\n",
    "print('Removed Element: ', removed)\n",
    "print(list_of_ints)"
   ]
  },
  {
   "cell_type": "code",
   "execution_count": 23,
   "metadata": {},
   "outputs": [
    {
     "name": "stdout",
     "output_type": "stream",
     "text": [
      "2\n",
      "4\n"
     ]
    }
   ],
   "source": [
    "# search a list\n",
    "# index() will search the list for the value given and return the first index where it is found\n",
    "list = [1, 3, 4, 6, 8, 8, 1]\n",
    "\n",
    "print(list.index(4))\n",
    "print(list.index(8))\n",
    "\n",
    "# use this in combination with the data accessing above to retrieve the data \n"
   ]
  },
  {
   "cell_type": "markdown",
   "metadata": {},
   "source": [
    "Python built in functions examples on a list: \n",
    "[Built in function reference](https://www.w3schools.com/python/python_ref_functions.asp)"
   ]
  },
  {
   "cell_type": "code",
   "execution_count": 27,
   "metadata": {},
   "outputs": [
    {
     "name": "stdout",
     "output_type": "stream",
     "text": [
      "[59, 80, 12, 31, 74]\n",
      "Max: 80\n",
      "Min: 12\n",
      "Num items in list: 5\n",
      "Sorted list: [12, 31, 59, 74, 80]\n",
      "Sum of list: 256\n",
      "Reversed list: [74, 31, 12, 80, 59]\n"
     ]
    }
   ],
   "source": [
    "import random\n",
    "new_list = random.sample(range(1, 100), 5)\n",
    "print(new_list)\n",
    "\n",
    "print('Max:', max(new_list))\n",
    "print('Min:', min(new_list))\n",
    "print('Num items in list:', len(new_list))\n",
    "print('Sorted list:', sorted(new_list))\n",
    "print('Sum of list:', sum(new_list))\n",
    "\n",
    "new_list.reverse()\n",
    "print('Reversed list:', new_list)"
   ]
  },
  {
   "cell_type": "code",
   "execution_count": null,
   "metadata": {},
   "outputs": [],
   "source": [
    "objviz(list_of_ints)"
   ]
  },
  {
   "cell_type": "markdown",
   "metadata": {},
   "source": [
    "# Exercises\n",
    "1. Enter the length and the width of a tennis court in metres, then calculate and display the perimeter and the area of the tennis court.\n",
    "2. Enter two integers on the keyboard and calculate and show the average of these two integers on the screen.\n",
    "3. Jason works as a part-time assistant in a bookshop and receives an hourly wage. Enter the number of hours he worked for a specific week, as well as the pay rate per hour. He has to pay R8 towards the recreation club. Calculate and display how much take-home pay he’s earned for the week.\n",
    "4. Tebogo earns a monthly salary, which she divides at the beginning of each\n",
    "month into amounts according to her needs. She pays R450 on rent for her\n",
    "room and the remainder of the money is divided as follows: 50% for food,\n",
    "20% for clothes, 15% for transport, 5% for charity and the remaining amount\n",
    "for pocket money. Enter her monthly salary, which is never less than R1 800,\n",
    "on the keyboard and then calculate and display how much money she has\n",
    "available for the various categories.\n",
    "5. At the EAT-A-LOT restaurant, customers dish up their own food and have the\n",
    "plate weighed in kg (2 decimal positions). The total weight of the plate and the\n",
    "food must be entered. The plate weighs 1.05 kg, which is subtracted from the\n",
    "total weight. The customer has to pay R7.35 per 100 g of food, and 14% VAT is\n",
    "added to the total. Display the weight of the food in kg as well as the amount\n",
    "due.\n",
    "\n",
    "Source: Basic Programming Principles 2e "
   ]
  },
  {
   "cell_type": "code",
   "execution_count": null,
   "metadata": {},
   "outputs": [],
   "source": []
  }
 ],
 "metadata": {
  "kernelspec": {
   "display_name": "Python 3",
   "language": "python",
   "name": "python3"
  },
  "language_info": {
   "codemirror_mode": {
    "name": "ipython",
    "version": 3
   },
   "file_extension": ".py",
   "mimetype": "text/x-python",
   "name": "python",
   "nbconvert_exporter": "python",
   "pygments_lexer": "ipython3",
   "version": "3.7.4"
  }
 },
 "nbformat": 4,
 "nbformat_minor": 4
}
