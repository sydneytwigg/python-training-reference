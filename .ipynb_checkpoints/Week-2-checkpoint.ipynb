{
 "cells": [
  {
   "cell_type": "markdown",
   "metadata": {},
   "source": [
    "# Python Training: Week 2\n",
    "## Contents\n",
    "- Algorithm Design\n",
    "    - Basic computer operations\n",
    "    - IPO charts\n",
    "    - Flow charts\n",
    "    - Trace tables\n",
    "- Python Basics Cont.\n",
    "    - Introduction to data structures\n",
    "        - Lists\n",
    "- Exercises"
   ]
  },
  {
   "cell_type": "markdown",
   "metadata": {},
   "source": [
    "# Algorithm Design\n",
    "## Basic computer operations\n",
    "Every algorithm and program is made up of a combination of the following building blocks:\n",
    "- Receive data\n",
    "    - read from a file\n",
    "    - read from an input device\n",
    "- Produce information\n",
    "    - write to a file or database\n",
    "    - output and display on screen\n",
    "- Perform arithmetic\n",
    "    - calculations can be performed on data\n",
    "- Assign value to variables\n",
    "    - give variables initial values\n",
    "    - assign values as a result of processing\n",
    "    - keep information for later use\n",
    "- Compare pieces of information and take action from the outcome\n",
    "    - conditional statements\n",
    "- Repeat a group of actions\n",
    "    - loops\n",
    "    \n",
    "## Analysing problems \n",
    "In order to create a script or a program you need to first understand what the problem you're trying to solve is, what result you're wanting and the steps to get that result. At a high level an algorithm can be divided into three main phases:\n",
    "\n",
    "1. Input - what data you have available to solve the problem\n",
    "2. Process - the steps taken to solve the problem\n",
    "3. Output - what the required results are\n",
    "\n",
    "As part of breaking down a problem and planning how to solve it IPO charts can be used. These are best suited to smaller pieces of code such as individual functions. \n",
    "\n",
    "> Example problem: Enter the distance between two trees in kilometres. Calculate and display the distance in metres and in centimetres.\n",
    "\n",
    "| Input | Process | Output |\n",
    "| - | - | - |\n",
    "| distance | - prompt distance input | metre |\n",
    "| | - enter distance | centimetre |\n",
    "| | - calculate metres | |\n",
    "| | - calculate centimetres | |\n",
    "| | - calculate metres | |\n",
    "| | - display centimetres | |\n"
   ]
  },
  {
   "cell_type": "markdown",
   "metadata": {},
   "source": [
    "Flowcharts can be used to plan and illustrate the logic behind a program, showing the steps for each process:\n",
    "![flowchart](img/flowchart.png)"
   ]
  },
  {
   "cell_type": "code",
   "execution_count": 8,
   "metadata": {},
   "outputs": [
    {
     "name": "stdout",
     "output_type": "stream",
     "text": [
      "\n"
     ]
    }
   ],
   "source": [
    "#http://flowchart.js.org/\n",
    "'''\n",
    "st=>start: Start\n",
    "e=>end: End\n",
    "in2=>inputoutput: distance = 'Enter distance in km: '\n",
    "op4=>operation: metre = (distance * 1000)\n",
    "op6=>operation: centimetre = (metre * 100)\n",
    "out8=>inputoutput: display '{distance} km is equivalent to {metre} metres or {centimetre} centimetres'\n",
    "\n",
    "st->in2->op4\n",
    "op4->op6\n",
    "op6->out8->e\n",
    "'''\n",
    "print()"
   ]
  },
  {
   "cell_type": "markdown",
   "metadata": {},
   "source": [
    "To test the logic and prevent errors of smaller code snippets, trace tables can be used with test data to ensure that the program will provide the expected results.\n",
    "\n",
    "|Instruction|distance|metre|centimetre|output|\n",
    "|-|-|-|-|-|\n",
    "| Input | | | | Enter distance in km |\n",
    "| Enter | 12 | | | |\n",
    "| Calculate metre | | 12000 | | |\n",
    "| Calculate centimetre | | | 1200000 | |\n",
    "| Display | | | | 12 km is equivalent to 12000 metres or 1200000 centimetres |\n"
   ]
  },
  {
   "cell_type": "markdown",
   "metadata": {},
   "source": [
    "Now that we've tested our logic, we can actually write the code for this problem:"
   ]
  },
  {
   "cell_type": "code",
   "execution_count": null,
   "metadata": {},
   "outputs": [],
   "source": [
    "distance = float(input(\"Enter distance in km: \"))\n",
    "metre = distance * 1000\n",
    "centimetre = metre * 100\n",
    "\n",
    "print(f\"{distance} km is equivalent to {metre} metres or {centimetre} centimetres\")"
   ]
  },
  {
   "cell_type": "code",
   "execution_count": null,
   "metadata": {},
   "outputs": [],
   "source": [
    "def distance_conversion():\n",
    "    distance = float(input(\"Enter distance in km: \"))\n",
    "    metre = distance * 1000\n",
    "    centimetre = metre * 100\n",
    "    return(f\"{distance} km is equivalent to {metre} metres or {centimetre} centimetres\")\n",
    "\n",
    "distance_conversion()"
   ]
  },
  {
   "cell_type": "code",
   "execution_count": null,
   "metadata": {},
   "outputs": [],
   "source": [
    "def distance_conversion(distance):\n",
    "    metre = distance * 1000\n",
    "    centimetre = metre * 100\n",
    "    return(f\"{distance} km is equivalent to {metre} metres or {centimetre} centimetres\")\n",
    "\n",
    "print(distance_conversion(10))\n",
    "print(distance_conversion(12.4))\n",
    "print(distance_conversion(87))"
   ]
  },
  {
   "cell_type": "markdown",
   "metadata": {},
   "source": [
    "## Python Basics cont.\n",
    "### Data Structures\n",
    "#### Lists\n",
    "A list is an ordered collection of items, the items can be uniquely identified by their location within the list. Lists can contain the same data type as well as mixed objects:"
   ]
  },
  {
   "cell_type": "code",
   "execution_count": null,
   "metadata": {},
   "outputs": [],
   "source": [
    "#pip install graphviz==0.18"
   ]
  },
  {
   "cell_type": "code",
   "execution_count": 5,
   "metadata": {},
   "outputs": [
    {
     "name": "stdout",
     "output_type": "stream",
     "text": [
      "[1, 2, 3]\n",
      "['One', 2, {'Four': 4}, None]\n",
      "['Hello', 'World']\n"
     ]
    }
   ],
   "source": [
    "from lolviz import *\n",
    "\n",
    "var = 2\n",
    "\n",
    "list_of_ints = [1, 2, 3]\n",
    "list_of_objects = [\"One\", var, {\"Four\":4}, None]\n",
    "list_of_strings = [\"Hello\", \"World\"]\n",
    "\n",
    "print(list_of_ints)\n",
    "print(list_of_objects)\n",
    "print(list_of_strings)"
   ]
  },
  {
   "cell_type": "markdown",
   "metadata": {},
   "source": [
    "Python built in functions examples on a list: \n",
    "[Built in function reference](https://www.w3schools.com/python/python_ref_functions.asp)"
   ]
  },
  {
   "cell_type": "code",
   "execution_count": 21,
   "metadata": {},
   "outputs": [
    {
     "name": "stdout",
     "output_type": "stream",
     "text": [
      "[55, 77, 82, 75, 43]\n",
      "Max: 82\n",
      "Min: 43\n",
      "Num items in list: 5\n",
      "Sorted list: [43, 55, 75, 77, 82]\n",
      "Sum of list: 332\n"
     ]
    }
   ],
   "source": [
    "import random\n",
    "new_list = random.sample(range(1, 100), 5)\n",
    "print(new_list)\n",
    "\n",
    "print('Max:', max(new_list))\n",
    "print('Min:', min(new_list))\n",
    "print('Num items in list:', len(new_list))\n",
    "print('Sorted list:', sorted(new_list))\n",
    "print('Sum of list:', sum(new_list))"
   ]
  },
  {
   "cell_type": "code",
   "execution_count": null,
   "metadata": {},
   "outputs": [],
   "source": [
    "objviz(list_of_ints)"
   ]
  },
  {
   "cell_type": "markdown",
   "metadata": {},
   "source": [
    "# Exercises\n",
    "1. Enter the length and the width of a tennis court in metres, then calculate and display the perimeter and the area of the tennis court.\n",
    "2. Enter two integers on the keyboard and calculate and show the average of these two integers on the screen.\n",
    "3. Jason works as a part-time assistant in a bookshop and receives an hourly wage. Enter the number of hours he worked for a specific week, as well as the pay rate per hour. He has to pay R8 towards the recreation club. Calculate and display how much take-home pay he’s earned for the week.\n",
    "4. Tebogo earns a monthly salary, which she divides at the beginning of each\n",
    "month into amounts according to her needs. She pays R450 on rent for her\n",
    "room and the remainder of the money is divided as follows: 50% for food,\n",
    "20% for clothes, 15% for transport, 5% for charity and the remaining amount\n",
    "for pocket money. Enter her monthly salary, which is never less than R1 800,\n",
    "on the keyboard and then calculate and display how much money she has\n",
    "available for the various categories.\n",
    "5. At the EAT-A-LOT restaurant, customers dish up their own food and have the\n",
    "plate weighed in kg (2 decimal positions). The total weight of the plate and the\n",
    "food must be entered. The plate weighs 1.05 kg, which is subtracted from the\n",
    "total weight. The customer has to pay R7.35 per 100 g of food, and 14% VAT is\n",
    "added to the total. Display the weight of the food in kg as well as the amount\n",
    "due.\n",
    "\n",
    "Source: Basic Programming Principles 2e "
   ]
  }
 ],
 "metadata": {
  "kernelspec": {
   "display_name": "Python 3",
   "language": "python",
   "name": "python3"
  },
  "language_info": {
   "codemirror_mode": {
    "name": "ipython",
    "version": 3
   },
   "file_extension": ".py",
   "mimetype": "text/x-python",
   "name": "python",
   "nbconvert_exporter": "python",
   "pygments_lexer": "ipython3",
   "version": "3.7.4"
  }
 },
 "nbformat": 4,
 "nbformat_minor": 4
}
