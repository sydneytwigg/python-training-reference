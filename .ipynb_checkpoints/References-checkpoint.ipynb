{
 "cells": [
  {
   "cell_type": "markdown",
   "metadata": {},
   "source": [
    "# References & Courses\n",
    "The following are some suggestions based on different learning methods - whether you prefer books, interactive courses, videos or hands on. \n",
    "\n",
    "*Please note we're using Python 3*"
   ]
  },
  {
   "cell_type": "markdown",
   "metadata": {},
   "source": [
    "## Stack Overflow\n",
    "The first and most important thing I'm going to emphasise here is that Google and Stack Overflow are a developers best friend - someone somewhere has had the same error as you and asked the question on Stack Overflow, if not you can be that someone somewhere. Always search for your questions or how to do something before spending 8 hours trying to debug - one of the main skills in development is the ability to search for your questions.\n",
    "\n",
    "An example of my history from the past couple searches, as an *experienced* Python user:\n",
    "\n",
    "![title](img/google_history.png)\n",
    "\n",
    "A handy tip on searching Google if you're wanting to filter to Stack Overflow only is using the below:\n",
    "```\n",
    "<search term> site:stackoverflow.com \n",
    "```\n"
   ]
  },
  {
   "cell_type": "markdown",
   "metadata": {},
   "source": [
    "## Interactive Course\n",
    "[Python Basics for Data Science](https://www.kaggle.com/learn/python) - this is an intro to Python on Kaggle, which is a data science community that is definitely worth spending some time exploring. It has open source data sets, plenty of notebooks for all aspects of data science, and competitions/challenges. This course is ~5 hours and has it's own web-based compiler so no need for any installation. \n",
    "\n",
    "### Kaggle Notebook to Read\n",
    "- [Data Exploration](https://www.kaggle.com/pmarcelino/comprehensive-data-exploration-with-python)\n",
    "    - Very statistics based, but good to read through and see how data exploration can be done, esp. relationships and dealing with missing data"
   ]
  },
  {
   "cell_type": "markdown",
   "metadata": {},
   "source": [
    "## YouTube\n",
    "[Python Programming](https://www.youtube.com/watch?v=N4mEzFDjqtA) on YouTube is a 45 minute intro that covers all the basics of Python, I recommend the following sections from the video:\n",
    "- [Basics](http://youtu.be/N4mEzFDjqtA?t=2m23s)\n",
    "- [Arithmetic](http://youtu.be/N4mEzFDjqtA?t=4m21s)\n",
    "- [Strings](http://youtu.be/N4mEzFDjqtA?t=5m54s)\n",
    "- [Lists / Arrays](http://youtu.be/N4mEzFDjqtA?t=8m8s)\n",
    "- [Tuples](http://youtu.be/N4mEzFDjqtA?t=12m24s)\n",
    "- [Dictionaries](http://youtu.be/N4mEzFDjqtA?t=13m37s)\n",
    "- [Conditionals](http://youtu.be/N4mEzFDjqtA?t=15m46s)\n",
    "- [For Loop](http://youtu.be/N4mEzFDjqtA?t=19m41s)\n",
    "- [While Loop](http://youtu.be/N4mEzFDjqtA?t=21m57s)\n",
    "- [String Functions](http://youtu.be/N4mEzFDjqtA?t=26m57s)\n",
    "- [File I/O](http://youtu.be/N4mEzFDjqtA?t=30m11s)\n"
   ]
  },
  {
   "cell_type": "markdown",
   "metadata": {},
   "source": [
    "## Reference & Guides - W3Schools\n",
    "[W3 Schools](https://www.w3schools.com/python/default.asp) also has great reference material and guides on how to use Python, I recommend reading through:\n",
    "- [Python Intro](https://www.w3schools.com/python/python_intro.asp) through to [Python Arrays](https://www.w3schools.com/python/python_arrays.asp)\n",
    "- [File Handling](https://www.w3schools.com/python/python_arrays.asp)\n",
    "- [NumPy Intro](https://www.w3schools.com/python/numpy_intro.asp)\n",
    "- [Python Reference](https://www.w3schools.com/python/python_reference.asp)"
   ]
  },
  {
   "cell_type": "markdown",
   "metadata": {},
   "source": [
    "## Open Access Books:\n",
    "|Title|Source Type|Author|Link|\n",
    "|-|-|-|-|\n",
    "|Automate the Boring Stuff|Book/Website|Al Sweigart|https://automatetheboringstuff.com/|\n",
    "|Think Python|Book|Allen Downey|https://www.dbooks.org/think-python-1491939362/|\n",
    "|Fundamentals of Python Programming|Book|Richard L. Halterman|https://www.dbooks.org/fundamentals-of-python-programming-1200/|\n",
    "|A Byte of Python|Book|Swaroop C H|https://www.dbooks.org/a-byte-of-python-1219/|\n",
    "\n",
    "## Other Recommended Books\n",
    "|Title|Source Type|Author|\n",
    "|-|-|-|\n",
    "|Learn Python 3 the Hard Way|Book|Zed A. Shaw|\n",
    "\n",
    "The exercises in this book are a really good start in understanding how to work with python; I'll be referencing a few of them - there are some good videos that go through the full book and the exercises on [YouTube](https://www.youtube.com/playlist?list=PLiEts138s9P2Cwe0PHZ8zndsEbvfV5P8N).\n"
   ]
  }
 ],
 "metadata": {
  "interpreter": {
   "hash": "8b8df95ce819e69bc07e6d14235bb32868d25e87fbce9298780446d2b9c5d137"
  },
  "kernelspec": {
   "display_name": "Python 3",
   "language": "python",
   "name": "python3"
  },
  "language_info": {
   "codemirror_mode": {
    "name": "ipython",
    "version": 3
   },
   "file_extension": ".py",
   "mimetype": "text/x-python",
   "name": "python",
   "nbconvert_exporter": "python",
   "pygments_lexer": "ipython3",
   "version": "3.7.4"
  }
 },
 "nbformat": 4,
 "nbformat_minor": 2
}
